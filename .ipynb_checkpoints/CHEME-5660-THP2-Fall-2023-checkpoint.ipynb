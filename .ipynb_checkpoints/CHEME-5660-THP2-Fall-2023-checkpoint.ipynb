{
 "cells": [
  {
   "cell_type": "markdown",
   "id": "41815685-2c92-4229-a5ce-17fe2b29e51e",
   "metadata": {},
   "source": [
    "## Fall 2023: CHEME 5660 Take Home Prelim 2 (THP2)\n",
    "Suppose we are choosing to invest $V_{B}$ USD between one of two possible investments:\n",
    "<div>\n",
    "    <center>\n",
    "        <img src=\"figs/CHEME-5660-L1c-AbstractAssets-Fall-2023.png\" width=\"680\"/>\n",
    "    </center>\n",
    "</div>\n",
    "\n",
    "* __Investment A__: Purchase a `52-Week` Treasury Bill (`T-bill`) at auction for $V_{B}$ USD, with an annualized investment rate of $\\bar{r}$ = `5.488%`, and semi-annual compounding. At the term of the `T-bill` we recieve the face value of the bill $V_{P}=$ 100 USD.\n",
    "* __Investment B__: Invest $V_{B}$ USD in $n_{o}$ shares of [SPYD](https://finance.yahoo.com/quote/SPYD/?guccounter=1&guce_referrer=aHR0cHM6Ly93d3cuZ29vZ2xlLmNvbS8&guce_referrer_sig=AQAAANiorcaltDNUCtp01qZd0GAF86DY9ajVMBq8fpt9wPQJKA2M7XgMOWvsfeDsrJxSlpMUKrWYfPDaC9XhnhQ2uCQnfWqvJIdpkimycwOTPv_QySkAzvnIju10jMrqSK7KdsX4ATgr0VtRlF6up-NuK5jDvJx1v2NSlxu1RGQTCAxR), an [ETF](https://www.investopedia.com/terms/e/etf.asp) that provides investment results that correspond to the total return of the S&P 500 High Dividend Index. The share price of [SPYD](https://finance.yahoo.com/quote/SPYD/?guccounter=1&guce_referrer=aHR0cHM6Ly93d3cuZ29vZ2xlLmNvbS8&guce_referrer_sig=AQAAANiorcaltDNUCtp01qZd0GAF86DY9ajVMBq8fpt9wPQJKA2M7XgMOWvsfeDsrJxSlpMUKrWYfPDaC9XhnhQ2uCQnfWqvJIdpkimycwOTPv_QySkAzvnIju10jMrqSK7KdsX4ATgr0VtRlF6up-NuK5jDvJx1v2NSlxu1RGQTCAxR), an [ETF](https://www.investopedia.com/terms/e/etf.asp) at the time of purchase is $S_{\\circ}$ = 34.57 USD/share. You hold the [SPYD](https://finance.yahoo.com/quote/SPYD/?guccounter=1&guce_referrer=aHR0cHM6Ly93d3cuZ29vZ2xlLmNvbS8&guce_referrer_sig=AQAAANiorcaltDNUCtp01qZd0GAF86DY9ajVMBq8fpt9wPQJKA2M7XgMOWvsfeDsrJxSlpMUKrWYfPDaC9XhnhQ2uCQnfWqvJIdpkimycwOTPv_QySkAzvnIju10jMrqSK7KdsX4ATgr0VtRlF6up-NuK5jDvJx1v2NSlxu1RGQTCAxR), an [ETF](https://www.investopedia.com/terms/e/etf.asp) shares for the same duration as the `T-bill`, collecting quarterly dividend payments of $\\text{1.78}\\times{n_{\\circ}}$ USD during the term. At the end the term, you collect a final dividend payment and liquidate your $n_{\\circ}$ shares at $S_{T}$ USD/share. \n",
    "\n",
    "Using the Net Present Value (NPV), on a risk-neutral basis, which investment should you choose? \n",
    "\n",
    "### Global assumptions\n",
    "* Assume the annualized risk-free rate equals the investment rate of the `T-bill`, $\\bar{r}$ = `5.488%`.\n",
    "* Assume the `T-bill` uses a discrete discounting model with $m$ = 2 compounding events per-year \n",
    "* Assume the `SPYD` shares use continuous discounting"
   ]
  },
  {
   "cell_type": "markdown",
   "id": "af52486a-eba5-4321-bf38-184a43cee999",
   "metadata": {},
   "source": [
    "### Setup"
   ]
  },
  {
   "cell_type": "code",
   "execution_count": 2,
   "id": "da0a2151-72de-46c6-892e-032690a20f68",
   "metadata": {
    "tags": []
   },
   "outputs": [
    {
     "name": "stderr",
     "output_type": "stream",
     "text": [
      "\u001b[32m\u001b[1m    Updating\u001b[22m\u001b[39m git-repo `https://github.com/varnerlab/VLQuantitativeFinancePackage.jl.git`\n",
      "\u001b[32m\u001b[1m   Resolving\u001b[22m\u001b[39m package versions...\n",
      "\u001b[32m\u001b[1m  No Changes\u001b[22m\u001b[39m to `~/Desktop/julia_work/CHEME-5660-Take-Home-Prelim-2-Fall-2023/Project.toml`\n",
      "\u001b[32m\u001b[1m  No Changes\u001b[22m\u001b[39m to `~/Desktop/julia_work/CHEME-5660-Take-Home-Prelim-2-Fall-2023/Manifest.toml`\n",
      "\u001b[32m\u001b[1m  Activating\u001b[22m\u001b[39m project at `~/Desktop/julia_work/CHEME-5660-Take-Home-Prelim-2-Fall-2023`\n",
      "\u001b[32m\u001b[1m  No Changes\u001b[22m\u001b[39m to `~/Desktop/julia_work/CHEME-5660-Take-Home-Prelim-2-Fall-2023/Project.toml`\n",
      "\u001b[32m\u001b[1m  No Changes\u001b[22m\u001b[39m to `~/Desktop/julia_work/CHEME-5660-Take-Home-Prelim-2-Fall-2023/Manifest.toml`\n",
      "\u001b[32m\u001b[1m    Updating\u001b[22m\u001b[39m registry at `~/.julia/registries/General.toml`\n",
      "\u001b[32m\u001b[1m    Updating\u001b[22m\u001b[39m git-repo `https://github.com/varnerlab/VLQuantitativeFinancePackage.jl.git`\n",
      "\u001b[32m\u001b[1m  No Changes\u001b[22m\u001b[39m to `~/Desktop/julia_work/CHEME-5660-Take-Home-Prelim-2-Fall-2023/Project.toml`\n",
      "\u001b[32m\u001b[1m  No Changes\u001b[22m\u001b[39m to `~/Desktop/julia_work/CHEME-5660-Take-Home-Prelim-2-Fall-2023/Manifest.toml`\n"
     ]
    }
   ],
   "source": [
    "include(\"Include.jl\");"
   ]
  },
  {
   "cell_type": "markdown",
   "id": "c59a9811-32a0-43cf-88b8-9d315122f031",
   "metadata": {},
   "source": [
    "## Investment A: Treasury Bill with a `52-Week` term to maturity\n",
    "Compute the price $V_{B}$ USD of the `T-bill`, save this value in the `VB` variable. "
   ]
  },
  {
   "cell_type": "markdown",
   "id": "3ebfdc50-342f-42da-a178-f4a223cb76a8",
   "metadata": {},
   "source": [
    "## Investment B: Purchase shares of `SPYD`\n",
    "Fill me in"
   ]
  },
  {
   "cell_type": "code",
   "execution_count": null,
   "id": "1efa4eca-45f9-467d-8941-e6033953d7ba",
   "metadata": {},
   "outputs": [],
   "source": []
  }
 ],
 "metadata": {
  "kernelspec": {
   "display_name": "Julia 1.9.3",
   "language": "julia",
   "name": "julia-1.9"
  },
  "language_info": {
   "file_extension": ".jl",
   "mimetype": "application/julia",
   "name": "julia",
   "version": "1.9.3"
  }
 },
 "nbformat": 4,
 "nbformat_minor": 5
}
