{
 "cells": [
  {
   "cell_type": "markdown",
   "id": "41815685-2c92-4229-a5ce-17fe2b29e51e",
   "metadata": {},
   "source": [
    "## Fall 2023: CHEME 5660 Take Home Prelim 2 (THP2)\n",
    "You are choosing to invest $V_{B}$ USD in one of two possible investments:\n",
    "<div>\n",
    "    <center>\n",
    "        <img src=\"figs/CHEME-5660-L1c-AbstractAssets-Fall-2023.png\" width=\"680\"/>\n",
    "    </center>\n",
    "</div>\n",
    "\n",
    "* __Investment A__: Purchase a `52-Week` Treasury Bill (`T-bill`) at auction for $V_{B}$ USD, with an annualized investment rate of $\\bar{r}$ = `5.488%`, and semi-annual compounding. At the term of the `T-bill` we recieve the face (par) value of the bill $V_{P}=$ 100 USD.\n",
    "* __Investment B__: Invest $V_{B}$ USD in $n_{o}$ shares of [SPYD](https://finance.yahoo.com/quote/SPYD/?guccounter=1&guce_referrer=aHR0cHM6Ly93d3cuZ29vZ2xlLmNvbS8&guce_referrer_sig=AQAAANiorcaltDNUCtp01qZd0GAF86DY9ajVMBq8fpt9wPQJKA2M7XgMOWvsfeDsrJxSlpMUKrWYfPDaC9XhnhQ2uCQnfWqvJIdpkimycwOTPv_QySkAzvnIju10jMrqSK7KdsX4ATgr0VtRlF6up-NuK5jDvJx1v2NSlxu1RGQTCAxR), an [ETF](https://www.investopedia.com/terms/e/etf.asp) that provides investment results that correspond to the total return of the S&P 500 High Dividend Index. The share price of [SPYD](https://finance.yahoo.com/quote/SPYD/?guccounter=1&guce_referrer=aHR0cHM6Ly93d3cuZ29vZ2xlLmNvbS8&guce_referrer_sig=AQAAANiorcaltDNUCtp01qZd0GAF86DY9ajVMBq8fpt9wPQJKA2M7XgMOWvsfeDsrJxSlpMUKrWYfPDaC9XhnhQ2uCQnfWqvJIdpkimycwOTPv_QySkAzvnIju10jMrqSK7KdsX4ATgr0VtRlF6up-NuK5jDvJx1v2NSlxu1RGQTCAxR), an [ETF](https://www.investopedia.com/terms/e/etf.asp) at the time of purchase is $S_{\\circ}$ = 34.57 USD/share. You hold the [SPYD](https://finance.yahoo.com/quote/SPYD/?guccounter=1&guce_referrer=aHR0cHM6Ly93d3cuZ29vZ2xlLmNvbS8&guce_referrer_sig=AQAAANiorcaltDNUCtp01qZd0GAF86DY9ajVMBq8fpt9wPQJKA2M7XgMOWvsfeDsrJxSlpMUKrWYfPDaC9XhnhQ2uCQnfWqvJIdpkimycwOTPv_QySkAzvnIju10jMrqSK7KdsX4ATgr0VtRlF6up-NuK5jDvJx1v2NSlxu1RGQTCAxR), an [ETF](https://www.investopedia.com/terms/e/etf.asp) shares for the same duration as the `T-bill`, collecting quarterly dividend payments of $\\text{1.78}\\times{n_{\\circ}}$ USD during the term. At the end the term, you collect a final dividend payment and liquidate your $n_{\\circ}$ shares at $S_{T}$ USD/share. \n",
    "\n",
    "Using the Net Present Value (NPV) as your decision rule, on a risk-neutral basis, which investment should you choose? \n",
    "\n",
    "### Global assumptions\n",
    "* Assume the annualized risk-free rate equals the investment rate of the `T-bill`, $\\bar{r}$ = `5.488%`.\n",
    "* Assume the `T-bill` uses a discrete discounting model with $m$ = 2 compounding events per-year \n",
    "* Assume the `SPYD` shares use continuous discounting"
   ]
  },
  {
   "cell_type": "markdown",
   "id": "af52486a-eba5-4321-bf38-184a43cee999",
   "metadata": {},
   "source": [
    "### Setup"
   ]
  },
  {
   "cell_type": "code",
   "execution_count": 1,
   "id": "da0a2151-72de-46c6-892e-032690a20f68",
   "metadata": {
    "tags": []
   },
   "outputs": [
    {
     "name": "stderr",
     "output_type": "stream",
     "text": [
      "\u001b[32m\u001b[1m    Updating\u001b[22m\u001b[39m git-repo `https://github.com/varnerlab/VLQuantitativeFinancePackage.jl.git`\n",
      "\u001b[32m\u001b[1m   Resolving\u001b[22m\u001b[39m package versions...\n",
      "\u001b[32m\u001b[1m  No Changes\u001b[22m\u001b[39m to `~/Desktop/julia_work/CHEME-5660-Take-Home-Prelim-2-Fall-2023/Project.toml`\n",
      "\u001b[32m\u001b[1m  No Changes\u001b[22m\u001b[39m to `~/Desktop/julia_work/CHEME-5660-Take-Home-Prelim-2-Fall-2023/Manifest.toml`\n",
      "\u001b[32m\u001b[1m  Activating\u001b[22m\u001b[39m project at `~/Desktop/julia_work/CHEME-5660-Take-Home-Prelim-2-Fall-2023`\n",
      "\u001b[32m\u001b[1m  No Changes\u001b[22m\u001b[39m to `~/Desktop/julia_work/CHEME-5660-Take-Home-Prelim-2-Fall-2023/Project.toml`\n",
      "\u001b[32m\u001b[1m  No Changes\u001b[22m\u001b[39m to `~/Desktop/julia_work/CHEME-5660-Take-Home-Prelim-2-Fall-2023/Manifest.toml`\n",
      "\u001b[32m\u001b[1m    Updating\u001b[22m\u001b[39m registry at `~/.julia/registries/General.toml`\n",
      "\u001b[32m\u001b[1m    Updating\u001b[22m\u001b[39m git-repo `https://github.com/varnerlab/VLQuantitativeFinancePackage.jl.git`\n",
      "\u001b[32m\u001b[1m  No Changes\u001b[22m\u001b[39m to `~/Desktop/julia_work/CHEME-5660-Take-Home-Prelim-2-Fall-2023/Project.toml`\n",
      "\u001b[32m\u001b[1m  No Changes\u001b[22m\u001b[39m to `~/Desktop/julia_work/CHEME-5660-Take-Home-Prelim-2-Fall-2023/Manifest.toml`\n"
     ]
    }
   ],
   "source": [
    "include(\"Include.jl\");"
   ]
  },
  {
   "cell_type": "markdown",
   "id": "0ccf399d-4149-44e0-89cb-90ead2e5f1f6",
   "metadata": {},
   "source": [
    "### Constants"
   ]
  },
  {
   "cell_type": "code",
   "execution_count": 18,
   "id": "3f3ebc92-2241-4c84-88c2-ef0219afffc3",
   "metadata": {
    "tags": []
   },
   "outputs": [],
   "source": [
    "# Parameters for investment A\n",
    "T = \"52-Week\" |> securityterm; # duration of both investments (in years)\n",
    "r̄ = 0.05488;  # investment rate (annualized rosk-free rate)\n",
    "dcm = DiscreteCompoundingModel(); # discrete discount/compounding model\n",
    "ccm = ContinuousCompoundingModel(); # continuous discount/compounding model\n",
    "Vₚ = 100.0; # par value of the T-bill\n",
    "n = 2; # number of compounding periods per year for the T-bill\n",
    "V̄B = 94.757389; # price of T-bill observed at auction\n",
    "\n",
    "# Parameters for investment B\n",
    "Sₒ = 34.57; # initial share price of SPYD\n",
    "σ̂ = 0.1818; # estimated volatility for SPYD"
   ]
  },
  {
   "cell_type": "markdown",
   "id": "c59a9811-32a0-43cf-88b8-9d315122f031",
   "metadata": {},
   "source": [
    "## Investment A: Treasury Bill with a `52-Week` term to maturity\n",
    "Compute the price $V_{B}$ USD of the `T-bill`, save this value in the `VB` variable. First, build (and populate) an instance of the `MyUSTreasuryZeroCouponBondModel` using the problem parameters, save this in the `tbill_model` variable.\n",
    "* You'll need to pass in a value for the `par` parameter, the `rate` parameter, the `n` parameter and the duration parameter `T` into the `build(...)` method"
   ]
  },
  {
   "cell_type": "code",
   "execution_count": 7,
   "id": "b269ded0-bce4-4a2f-ae1a-cd0a2998da65",
   "metadata": {
    "tags": []
   },
   "outputs": [],
   "source": [
    "tbill_model = build(MyUSTreasuryZeroCouponBondModel, (\n",
    "    par = Vₚ, rate = r̄, n = n, T = T\n",
    ")) |> dcm;"
   ]
  },
  {
   "cell_type": "markdown",
   "id": "ad331993-a60b-427d-9772-4b918b63305a",
   "metadata": {},
   "source": [
    "Next, get the computed price from the `tbill_model` variable by accessing the `price` field, save this value in the `VB` variable:"
   ]
  },
  {
   "cell_type": "code",
   "execution_count": 13,
   "id": "a40ddbaa-ab69-49c5-872c-245f5a6d6b32",
   "metadata": {
    "tags": []
   },
   "outputs": [],
   "source": [
    "VB = tbill_model.price;"
   ]
  },
  {
   "cell_type": "markdown",
   "id": "f0ad282a-55ab-4f2a-8275-1c9e74910cc8",
   "metadata": {},
   "source": [
    "### a) Check your computed price for the `T-bill`\n",
    "The price reported at the Treasury auction on `10/03/23` for this `T-bill` was $\\bar{V}_{B}$ = 94.757389 `USD`. Let's compute the percentange differece between our computed price and the price observed at auction:\n",
    "\n",
    "$$\n",
    "\\epsilon = \\left(\\frac{V_{B} - \\bar{V}_{B}}{\\bar{V}_{B}}\\right)\\times\\text{100}\n",
    "$$"
   ]
  },
  {
   "cell_type": "code",
   "execution_count": 12,
   "id": "d85953c2-b9a9-49a1-92a7-d31700c643d8",
   "metadata": {
    "tags": []
   },
   "outputs": [],
   "source": [
    "ϵ = ((VB - V̄B)/V̄B)*100;"
   ]
  },
  {
   "cell_type": "markdown",
   "id": "039bab2f-10a6-448e-b886-402b53c64039",
   "metadata": {},
   "source": [
    "If $\\text{abs}\\left(\\epsilon\\right)\\leq~0.01$, we can continue. Use the `@assert ...` macro to check the error condition on the computed Treasury bill prices:"
   ]
  },
  {
   "cell_type": "code",
   "execution_count": 15,
   "id": "facd9250-86b1-4817-9024-e2efca497293",
   "metadata": {
    "tags": []
   },
   "outputs": [],
   "source": [
    "# Test: are the prices \"close\"?\n",
    "@assert abs(ϵ) ≤ 0.01"
   ]
  },
  {
   "cell_type": "markdown",
   "id": "6273f458-bfbd-4b69-8e6c-f06410ce0014",
   "metadata": {},
   "source": [
    "### b) Compute the Net Present Value (NPV) of Investment A"
   ]
  },
  {
   "cell_type": "markdown",
   "id": "3880859e-857e-432f-8312-843d207abd61",
   "metadata": {},
   "source": [
    "Fill me in here. "
   ]
  },
  {
   "cell_type": "markdown",
   "id": "3ebfdc50-342f-42da-a178-f4a223cb76a8",
   "metadata": {},
   "source": [
    "## Investment B: Purchase shares of `SPYD`, hold for `52-Weeks`\n",
    "The challenge to computing the Net Present Value (NPV) _today_ of Investment B is the estimation of the final share price of `SPYD` at term, which we denote as $S_{T}$. Toward this challenge, let's construct a Geometric Brownian Motion (GBM) model project for the price, where we estimate the drift parameter $\\mu$ from `2023` price data, and use the option's markets estimate for the volatility parameter $\\sigma$."
   ]
  },
  {
   "cell_type": "code",
   "execution_count": null,
   "id": "1efa4eca-45f9-467d-8941-e6033953d7ba",
   "metadata": {},
   "outputs": [],
   "source": []
  }
 ],
 "metadata": {
  "kernelspec": {
   "display_name": "Julia 1.9.3",
   "language": "julia",
   "name": "julia-1.9"
  },
  "language_info": {
   "file_extension": ".jl",
   "mimetype": "application/julia",
   "name": "julia",
   "version": "1.9.3"
  }
 },
 "nbformat": 4,
 "nbformat_minor": 5
}
