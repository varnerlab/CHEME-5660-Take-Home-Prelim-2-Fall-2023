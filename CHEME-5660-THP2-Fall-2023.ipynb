{
 "cells": [
  {
   "cell_type": "markdown",
   "id": "41815685-2c92-4229-a5ce-17fe2b29e51e",
   "metadata": {},
   "source": [
    "## Fall 2023: CHEME 5660 Take Home Prelim 2 (THP2)\n",
    "You are choosing to invest $V_{B}$ USD in one of two possible investments:\n",
    "<div>\n",
    "    <center>\n",
    "        <img src=\"figs/CHEME-5660-L1c-AbstractAssets-Fall-2023.png\" width=\"680\"/>\n",
    "    </center>\n",
    "</div>\n",
    "\n",
    "* __Investment A__: Purchase a `52-Week` Treasury Bill (`T-bill`) at auction for $V_{B}$ USD, with an annualized investment rate of $\\bar{r}$ = `5.488%`, and semi-annual compounding. At the term of the `T-bill` we recieve the face (par) value of the bill $V_{P}=$ 100 USD.\n",
    "* __Investment B__: Invest $V_{B}$ USD in $n_{o}$ shares of [SPYD](https://finance.yahoo.com/quote/SPYD/?guccounter=1&guce_referrer=aHR0cHM6Ly93d3cuZ29vZ2xlLmNvbS8&guce_referrer_sig=AQAAANiorcaltDNUCtp01qZd0GAF86DY9ajVMBq8fpt9wPQJKA2M7XgMOWvsfeDsrJxSlpMUKrWYfPDaC9XhnhQ2uCQnfWqvJIdpkimycwOTPv_QySkAzvnIju10jMrqSK7KdsX4ATgr0VtRlF6up-NuK5jDvJx1v2NSlxu1RGQTCAxR), an [ETF](https://www.investopedia.com/terms/e/etf.asp) that provides investment results that correspond to the total return of the S&P 500 High Dividend Index. The share price of [SPYD](https://finance.yahoo.com/quote/SPYD/?guccounter=1&guce_referrer=aHR0cHM6Ly93d3cuZ29vZ2xlLmNvbS8&guce_referrer_sig=AQAAANiorcaltDNUCtp01qZd0GAF86DY9ajVMBq8fpt9wPQJKA2M7XgMOWvsfeDsrJxSlpMUKrWYfPDaC9XhnhQ2uCQnfWqvJIdpkimycwOTPv_QySkAzvnIju10jMrqSK7KdsX4ATgr0VtRlF6up-NuK5jDvJx1v2NSlxu1RGQTCAxR) at the time of purchase is $S_{\\circ}$ = 34.57 USD/share. You hold the [SPYD](https://finance.yahoo.com/quote/SPYD/?guccounter=1&guce_referrer=aHR0cHM6Ly93d3cuZ29vZ2xlLmNvbS8&guce_referrer_sig=AQAAANiorcaltDNUCtp01qZd0GAF86DY9ajVMBq8fpt9wPQJKA2M7XgMOWvsfeDsrJxSlpMUKrWYfPDaC9XhnhQ2uCQnfWqvJIdpkimycwOTPv_QySkAzvnIju10jMrqSK7KdsX4ATgr0VtRlF6up-NuK5jDvJx1v2NSlxu1RGQTCAxR) shares for `52-Weeks`, collecting quarterly dividend payments of $\\text{1.78}\\times{n_{\\circ}}$ USD during the term. At the end the term, you collect a final dividend payment and liquidate your $n_{\\circ}$ shares at $S_{T}$ USD/share. \n",
    "\n",
    "Using the Net Present Value (NPV) as your decision rule, on a risk-neutral basis, which investment should you choose? \n",
    "\n",
    "### Assumptions\n",
    "* Assume the annualized risk-free rate equals the investment rate of the `T-bill`, $\\bar{r}$ = `5.488%`.\n",
    "* Assume the `T-bill` uses a discrete discounting model with $m$ = 2 compounding events per-year \n",
    "* Assume the `SPYD` shares use continuous discounting"
   ]
  },
  {
   "cell_type": "markdown",
   "id": "af52486a-eba5-4321-bf38-184a43cee999",
   "metadata": {},
   "source": [
    "### Setup"
   ]
  },
  {
   "cell_type": "code",
   "execution_count": 1,
   "id": "da0a2151-72de-46c6-892e-032690a20f68",
   "metadata": {
    "tags": []
   },
   "outputs": [
    {
     "name": "stderr",
     "output_type": "stream",
     "text": [
      "\u001b[32m\u001b[1m    Updating\u001b[22m\u001b[39m git-repo `https://github.com/varnerlab/VLQuantitativeFinancePackage.jl.git`\n",
      "\u001b[32m\u001b[1m   Resolving\u001b[22m\u001b[39m package versions...\n",
      "\u001b[32m\u001b[1m  No Changes\u001b[22m\u001b[39m to `~/Desktop/julia_work/CHEME-5660-Take-Home-Prelim-2-Fall-2023/Project.toml`\n",
      "\u001b[32m\u001b[1m  No Changes\u001b[22m\u001b[39m to `~/Desktop/julia_work/CHEME-5660-Take-Home-Prelim-2-Fall-2023/Manifest.toml`\n",
      "\u001b[32m\u001b[1m  Activating\u001b[22m\u001b[39m project at `~/Desktop/julia_work/CHEME-5660-Take-Home-Prelim-2-Fall-2023`\n",
      "\u001b[32m\u001b[1m  No Changes\u001b[22m\u001b[39m to `~/Desktop/julia_work/CHEME-5660-Take-Home-Prelim-2-Fall-2023/Project.toml`\n",
      "\u001b[32m\u001b[1m  No Changes\u001b[22m\u001b[39m to `~/Desktop/julia_work/CHEME-5660-Take-Home-Prelim-2-Fall-2023/Manifest.toml`\n",
      "\u001b[32m\u001b[1m    Updating\u001b[22m\u001b[39m registry at `~/.julia/registries/General.toml`\n",
      "\u001b[32m\u001b[1m    Updating\u001b[22m\u001b[39m git-repo `https://github.com/varnerlab/VLQuantitativeFinancePackage.jl.git`\n",
      "\u001b[32m\u001b[1m  No Changes\u001b[22m\u001b[39m to `~/Desktop/julia_work/CHEME-5660-Take-Home-Prelim-2-Fall-2023/Project.toml`\n",
      "\u001b[32m\u001b[1m  No Changes\u001b[22m\u001b[39m to `~/Desktop/julia_work/CHEME-5660-Take-Home-Prelim-2-Fall-2023/Manifest.toml`\n"
     ]
    }
   ],
   "source": [
    "include(\"Include.jl\");"
   ]
  },
  {
   "cell_type": "markdown",
   "id": "0ccf399d-4149-44e0-89cb-90ead2e5f1f6",
   "metadata": {},
   "source": [
    "### Constants\n",
    "Here we set some constants that will be used in the evaluation of `Investment A` and `Investment B`:"
   ]
  },
  {
   "cell_type": "code",
   "execution_count": 2,
   "id": "3f3ebc92-2241-4c84-88c2-ef0219afffc3",
   "metadata": {
    "tags": []
   },
   "outputs": [],
   "source": [
    "# Parameters for Investment A\n",
    "T = \"52-Week\" |> securityterm; # duration of investment A (in years)\n",
    "r̄ = 0.05488;  # investment rate (annualized risk-free rate)\n",
    "dcm = DiscreteCompoundingModel(); # discrete discount/compounding model\n",
    "Vₚ = 100.0; # par value of the T-bill\n",
    "n = 2; # number of compounding periods per year for the T-bill\n",
    "V̄B = 94.757389; # price of T-bill observed at auction\n",
    "\n",
    "# Parameters for Investment B\n",
    "Sₒ = 34.57; # initial share price of SPYD\n",
    "σ̂ = 0.1818; # estimated volatility for SPYD\n",
    "Δt = (1.0/252.0); # time-step for SPYD \n",
    "number_of_samples = 25000; # number of random samples for the SPYD distribution\n",
    "dividend_per_share = 1.78; # dividend amount per share of SPYD"
   ]
  },
  {
   "cell_type": "markdown",
   "id": "c59a9811-32a0-43cf-88b8-9d315122f031",
   "metadata": {},
   "source": [
    "## Investment A: Treasury Bill with a `52-Week` term to maturity\n",
    "Compute the price $V_{B}$ USD of the `T-bill`, save this value in the `VB` variable. First, build (and populate) an instance of the `MyUSTreasuryZeroCouponBondModel` using the problem parameters, save this in the `tbill_model` variable.\n",
    "* Pass in a value for the `par` parameter, the `rate` parameter, the `n` parameter and the duration parameter `T` into the `build(...)` method"
   ]
  },
  {
   "cell_type": "code",
   "execution_count": 3,
   "id": "b269ded0-bce4-4a2f-ae1a-cd0a2998da65",
   "metadata": {
    "tags": []
   },
   "outputs": [],
   "source": [
    "tbill_model = nothing; # TODO: fill me in"
   ]
  },
  {
   "cell_type": "markdown",
   "id": "ad331993-a60b-427d-9772-4b918b63305a",
   "metadata": {},
   "source": [
    "Next, get the computed price from the `tbill_model` variable by accessing the `price` field, save this value in the `VB` variable:"
   ]
  },
  {
   "cell_type": "code",
   "execution_count": 4,
   "id": "a40ddbaa-ab69-49c5-872c-245f5a6d6b32",
   "metadata": {
    "tags": []
   },
   "outputs": [
    {
     "ename": "LoadError",
     "evalue": "type Nothing has no field price",
     "output_type": "error",
     "traceback": [
      "type Nothing has no field price",
      "",
      "Stacktrace:",
      " [1] getproperty(x::Nothing, f::Symbol)",
      "   @ Base ./Base.jl:37",
      " [2] top-level scope",
      "   @ In[4]:1"
     ]
    }
   ],
   "source": [
    "VB = tbill_model.price;"
   ]
  },
  {
   "cell_type": "markdown",
   "id": "f0ad282a-55ab-4f2a-8275-1c9e74910cc8",
   "metadata": {},
   "source": [
    "#### a) Check your computed price for the `T-bill`\n",
    "The price reported at the Treasury auction on `10/03/23` for this `T-bill` was $\\bar{V}_{B}$ = 94.757389 `USD`. Let's compute the percentange differece between our computed price and the price observed at auction:\n",
    "\n",
    "$$\n",
    "\\epsilon = \\left(\\frac{V_{B} - \\bar{V}_{B}}{\\bar{V}_{B}}\\right)\\times\\text{100}\n",
    "$$"
   ]
  },
  {
   "cell_type": "code",
   "execution_count": 5,
   "id": "d85953c2-b9a9-49a1-92a7-d31700c643d8",
   "metadata": {
    "tags": []
   },
   "outputs": [],
   "source": [
    "ϵ = Inf; # TODO: fill me in"
   ]
  },
  {
   "cell_type": "markdown",
   "id": "039bab2f-10a6-448e-b886-402b53c64039",
   "metadata": {},
   "source": [
    "If $\\text{abs}\\left(\\epsilon\\right)\\leq~0.01$, we can continue. Use the `@assert ...` macro to check the error condition on the computed Treasury bill prices:"
   ]
  },
  {
   "cell_type": "code",
   "execution_count": 6,
   "id": "facd9250-86b1-4817-9024-e2efca497293",
   "metadata": {
    "tags": []
   },
   "outputs": [
    {
     "ename": "LoadError",
     "evalue": "AssertionError: abs(ϵ) ≤ 0.01",
     "output_type": "error",
     "traceback": [
      "AssertionError: abs(ϵ) ≤ 0.01",
      "",
      "Stacktrace:",
      " [1] top-level scope",
      "   @ In[6]:2"
     ]
    }
   ],
   "source": [
    "# Test: are the prices \"close\"?\n",
    "@assert abs(ϵ) ≤ 0.01; # if this fails (diff larger that 0.01%), an AssertionError will be thrown. Otherwise, no error is thrown"
   ]
  },
  {
   "cell_type": "markdown",
   "id": "6273f458-bfbd-4b69-8e6c-f06410ce0014",
   "metadata": {},
   "source": [
    "#### b) Compute the Net Present Value (NPV) of `Investment A`\n",
    "Finally, we can compute the NPV for `Investment A`,  save this value in the `NPV_A` variable:"
   ]
  },
  {
   "cell_type": "code",
   "execution_count": 7,
   "id": "dccdb562-49ba-40dc-9acb-5823a8e48460",
   "metadata": {
    "tags": []
   },
   "outputs": [],
   "source": [
    "NPV_A = nothing; # TODO fill me in (hint: don't over think this ... this should require NO computation to answer)"
   ]
  },
  {
   "cell_type": "markdown",
   "id": "3ebfdc50-342f-42da-a178-f4a223cb76a8",
   "metadata": {},
   "source": [
    "## Investment B: Purchase shares of `SPYD`, hold for `52-Weeks`\n",
    "The challenge to computing the Net Present Value (NPV) _today_ for the `SPYD` shares in `Investment B` is the estimation of the final share price of `SPYD` at the end of the `52-Week` investment period, denoted as $S_{T}$. Toward this challenge, let's construct a Geometric Brownian Motion (GBM) model to predict the future share price at the end of the `Investment B` period:\n",
    "* We'll estimate the drift parameter $\\mu$ in the GBM model using `2023` price data\n",
    "* However, we'll use the option's markets estimate for the volatility parameter $\\sigma$ = 0.1818 in the GBM model\n",
    "\n",
    "### Background\n",
    "[Geometric Brownian motion (GBM)](https://en.wikipedia.org/wiki/Geometric_Brownian_motion) is a continuous-time stochastic process model in which the random variable $S(t)$, e.g., the share price of `XYZ` is described by a deterministic drift corrupted by a [Wiener process](https://en.wikipedia.org/wiki/Wiener_process):\n",
    "\n",
    "$$\\frac{dS}{S} = {\\mu}dt + \\sigma{dW}$$\n",
    "\n",
    "The constant $\\mu$ denotes a drift parameter, $\\sigma$ indicates a volatility parameter, and $dW$ represents the output of a [Wiener process](https://en.wikipedia.org/wiki/Wiener_process).  Using [Ito's lemma](https://en.wikipedia.org/wiki/Itô%27s_lemma), we can formulate an analytical solution to the GBM equation:\n",
    "\n",
    "$$S(t) = S_{\\circ}\\exp\\Biggl[\\left(\\mu-\\frac{\\sigma^{2}}{2}\\right)\\left(t - t_{\\circ}\\right) + (\\sigma\\sqrt{t-t_{\\circ}})\\cdot{Z_{t}(0,1)}\\Biggr]$$\n",
    "\n",
    "where $S_{\\circ}$ denotes the share price at $t_{\\circ}$, and $Z_{t}(0,1)$ denotes a [standard normal random variable](https://en.wikipedia.org/wiki/Normal_distribution#Standard_normal_distribution) at time $t$. For Geometric Brownian Motion (GBM) analytical expressions are available for both the expected value and the variance of the share price:\n",
    "\n",
    "$$\n",
    "\\begin{eqnarray*}\n",
    "\\mathbb{E}\\left(S_{t}\\right) & = & S_{o}\\exp\\left(\\mu\\cdot\\Delta{t}\\right) \\\\\n",
    "\\text{Var}\\left(S_{t}\\right) & = & S_{\\circ}^{2}e^{2\\mu\\cdot\\Delta{t}}\\left[e^{\\sigma^{2}{\\Delta{t}}} - 1\\right]\n",
    "\\end{eqnarray*}\n",
    "$$\n",
    "\n",
    "where $\\Delta{t} = t-t_{o}$ and $S_{o}$ denotes the share price at $t=t_{o}$. "
   ]
  },
  {
   "cell_type": "markdown",
   "id": "a3c42e12-8d5d-4aaf-9ccb-de8b8c9afe6d",
   "metadata": {},
   "source": [
    "#### Prerequisites\n",
    "Before we begin modeling the share price of `SPYD`, let's load the Year-to-Date (YTD) `OHLC` daily price dataset for `SPYD` (data from `01/03/23` to `10/13/23`) by calling the `MySPYDDataSet()` function. This function returns the price data as a `DataFrame`. Save this data in the `firm_data` variable:"
   ]
  },
  {
   "cell_type": "code",
   "execution_count": 8,
   "id": "a3b12a91-af9d-4fb0-a7e3-4b94bdad3314",
   "metadata": {
    "tags": []
   },
   "outputs": [],
   "source": [
    "firm_data = nothing; # TODO fill me in"
   ]
  },
  {
   "cell_type": "markdown",
   "id": "0f22f11f-5e3d-4fbc-98be-bd1bcc4708bb",
   "metadata": {},
   "source": [
    "#### a) Estimate the drift parameter $\\mu$\n",
    "To estimate the drift parameter, consider the deterministic component of the GBM analytical solution, i.e., the solution without random noise $\\sigma = 0$ or:\n",
    "\n",
    "$$\n",
    "S(t) = S_{\\circ}\\cdot\\exp(\\mu\\cdot\\Delta{t})\n",
    "$$\n",
    "\n",
    "Use the `ln`-transformed version of the deterministic component of the GBM solution to form an `overdetermined` system of Linear Algebraic Equations (LAEs), which can be solved for the unknown parameter vector $\\theta$.\n",
    "\n",
    "__Strategy__:\n",
    "Let $\\mathbf{A}$ denote a $\\mathcal{S}\\times{2}$ matrix, where each row corresponds to a time value. The first column of $\\mathbf{A}$ is all 1's while the second column holds the $(t_{k}-t_{\\circ})$ values. Further, let $\\mathbf{Y}$ denote the `ln` of the price values of `SPYD` (in the same order as the $\\mathbf{A}$ matrix). Then, the y-intercept ($\\ln\\, S_{\\circ}$) and slope (drift parameter) can be estimated by solving the `overdetermined` system of equations:\n",
    "\n",
    "$$\\mathbf{A}\\mathbf{\\theta} + \\mathbf{\\epsilon} = \\mathbf{Y}$$\n",
    "\n",
    "where $\\mathbf{\\theta}$ denotes the vector of unknown parameters. This system can be solved as:\n",
    "\n",
    "$$\\mathbf{\\theta} = (\\mathbf{A}^{T}\\mathbf{A})^{-1}\\mathbf{A}^{T}\\mathbf{Y} - (\\mathbf{A}^{T}\\mathbf{A})^{-1}\\mathbf{A}^{T}\\mathbf{\\epsilon}$$\n",
    "\n",
    "where $\\mathbf{A}^{T}$ denotes the transpose of the matrix $\\mathbf{A}$, and $(\\mathbf{A}^{T}\\mathbf{A})^{-1}$ denotes the inverse of the square matrix product $\\mathbf{A}^{T}\\mathbf{A}$. Let's neglect modeling the residuals, i.e., set $\\mathbf{\\epsilon} = 0$ and consider only the mean (expected) solution."
   ]
  },
  {
   "cell_type": "code",
   "execution_count": 9,
   "id": "c1970e71-7de5-4327-a7cb-ae1abfc644dc",
   "metadata": {
    "tags": []
   },
   "outputs": [
    {
     "ename": "LoadError",
     "evalue": "MethodError: no method matching nrow(::Nothing)\n\n\u001b[0mClosest candidates are:\n\u001b[0m  nrow(\u001b[91m::Tables.MatrixRowTable\u001b[39m)\n\u001b[0m\u001b[90m   @\u001b[39m \u001b[35mTables\u001b[39m \u001b[90m~/.julia/packages/Tables/u1X7W/src/\u001b[39m\u001b[90m\u001b[4mmatrix.jl:117\u001b[24m\u001b[39m\n\u001b[0m  nrow(\u001b[91m::Tables.AbstractColumns\u001b[39m)\n\u001b[0m\u001b[90m   @\u001b[39m \u001b[35mTables\u001b[39m \u001b[90m~/.julia/packages/Tables/u1X7W/src/\u001b[39m\u001b[90m\u001b[4mfallbacks.jl:282\u001b[24m\u001b[39m\n\u001b[0m  nrow(\u001b[91m::NamedTuple{names, T} where {N, names, T<:Tuple{Vararg{AbstractVector, N}}}\u001b[39m)\n\u001b[0m\u001b[90m   @\u001b[39m \u001b[35mTables\u001b[39m \u001b[90m~/.julia/packages/Tables/u1X7W/src/\u001b[39m\u001b[90m\u001b[4mnamedtuples.jl:196\u001b[24m\u001b[39m\n\u001b[0m  ...\n",
     "output_type": "error",
     "traceback": [
      "MethodError: no method matching nrow(::Nothing)\n\n\u001b[0mClosest candidates are:\n\u001b[0m  nrow(\u001b[91m::Tables.MatrixRowTable\u001b[39m)\n\u001b[0m\u001b[90m   @\u001b[39m \u001b[35mTables\u001b[39m \u001b[90m~/.julia/packages/Tables/u1X7W/src/\u001b[39m\u001b[90m\u001b[4mmatrix.jl:117\u001b[24m\u001b[39m\n\u001b[0m  nrow(\u001b[91m::Tables.AbstractColumns\u001b[39m)\n\u001b[0m\u001b[90m   @\u001b[39m \u001b[35mTables\u001b[39m \u001b[90m~/.julia/packages/Tables/u1X7W/src/\u001b[39m\u001b[90m\u001b[4mfallbacks.jl:282\u001b[24m\u001b[39m\n\u001b[0m  nrow(\u001b[91m::NamedTuple{names, T} where {N, names, T<:Tuple{Vararg{AbstractVector, N}}}\u001b[39m)\n\u001b[0m\u001b[90m   @\u001b[39m \u001b[35mTables\u001b[39m \u001b[90m~/.julia/packages/Tables/u1X7W/src/\u001b[39m\u001b[90m\u001b[4mnamedtuples.jl:196\u001b[24m\u001b[39m\n\u001b[0m  ...\n",
      "",
      "Stacktrace:",
      " [1] top-level scope",
      "   @ In[9]:1"
     ]
    }
   ],
   "source": [
    "number_of_trading_days = nrow(firm_data);\n",
    "all_range = range(1,stop=number_of_trading_days,step=1) |> collect;\n",
    "T_all = all_range*Δt .- Δt;\n",
    "    \n",
    "A = [ones(number_of_trading_days) T_all];\n",
    "Y = log.(firm_data[!,:volume_weighted_average_price]);\n",
    "\n",
    "# Solve the normal equations -\n",
    "θ = nothing; # TODO, fill me in. See Lab 7b for help with the linear algebra"
   ]
  },
  {
   "cell_type": "markdown",
   "id": "972fa6fe-4b5a-46a0-a24b-1e9fd43f7c4d",
   "metadata": {},
   "source": [
    "The second element of the $\\theta$-array is the estimated drift parameter value $\\hat{\\mu}$"
   ]
  },
  {
   "cell_type": "code",
   "execution_count": 10,
   "id": "feced58e-5581-4001-98fc-2fcf3dd074dd",
   "metadata": {
    "tags": []
   },
   "outputs": [
    {
     "ename": "LoadError",
     "evalue": "UndefVarError: `θ` not defined",
     "output_type": "error",
     "traceback": [
      "UndefVarError: `θ` not defined",
      "",
      "Stacktrace:",
      " [1] top-level scope",
      "   @ In[10]:1"
     ]
    }
   ],
   "source": [
    "μ̂ = θ[2];"
   ]
  },
  {
   "cell_type": "markdown",
   "id": "fddb00f5-28ad-46d7-b6a0-1b6b25702f0e",
   "metadata": {},
   "source": [
    "#### b) Estimate the final share price $S_{T}$ distribution\n",
    "Now that we have values for the drift and volatility parameters let's estimate the distribution of possible final share prices for `SPYD` by directly sampling the GBM analytical solution. Then, we'll compare the samples to a `Normal` distribution constructed from the analytical expected value and variance expressions.\n",
    "\n",
    "First, create an instance of the `MyGeometricBrownianMotionEquityModel` using the `build(...)` method, and pass in your estimates of the drift `μ` and volatility `σ` parameters as arguments in the `build(...)` method. Save the GBM model in the `gbm_model` variable:"
   ]
  },
  {
   "cell_type": "code",
   "execution_count": 11,
   "id": "d1dcb3f3-0097-4838-b0ca-976b570dab4a",
   "metadata": {
    "tags": []
   },
   "outputs": [],
   "source": [
    "gbm_model = nothing; # TODO fill me in"
   ]
  },
  {
   "cell_type": "markdown",
   "id": "96a8a093-bdec-4ac5-bfaf-669740d612ad",
   "metadata": {},
   "source": [
    "Next, sample the `gbm_model` using the `sample(...)` function. Set the initial share price to $S_{o}$ (specified in `constants`), the initial time $T_{1}$ = 0.0, the final time $T_{2}$ = 1.0, and the `number_of_paths` equal to the `number_of_samples` (specified in `constants`). Save the samples in the `X` array:"
   ]
  },
  {
   "cell_type": "code",
   "execution_count": 12,
   "id": "c4eee94e-ef7e-4f0d-baee-6ba487409554",
   "metadata": {
    "tags": []
   },
   "outputs": [],
   "source": [
    "T₁ = 0.0;\n",
    "T₂ = 1.0;\n",
    "X = nothing; # TODO fill me in. See Lab 7b"
   ]
  },
  {
   "cell_type": "markdown",
   "id": "b8f7a684-fe6b-476d-9b88-f42735516057",
   "metadata": {
    "tags": []
   },
   "source": [
    "Now that we have the sample array  `X`, construct an analytical version of the potential share price distribution, where we assume the $S_{T}$ values are [Normally distributed](https://en.wikipedia.org/wiki/Normal_distribution). First, compute the `expectation` and `variance` arrays using the `𝔼(...)` and `Var` functions:"
   ]
  },
  {
   "cell_type": "code",
   "execution_count": 13,
   "id": "4264575f-194c-4886-ad05-44babc54587c",
   "metadata": {
    "tags": []
   },
   "outputs": [
    {
     "ename": "LoadError",
     "evalue": "MethodError: no method matching 𝔼(::Nothing, ::NamedTuple{(:Sₒ, :T₁, :T₂, :Δt), NTuple{4, Float64}})\n\n\u001b[0mClosest candidates are:\n\u001b[0m  𝔼(\u001b[91m::MyGeometricBrownianMotionEquityModel\u001b[39m, ::NamedTuple)\n\u001b[0m\u001b[90m   @\u001b[39m \u001b[32mMain\u001b[39m \u001b[90m~/Desktop/julia_work/CHEME-5660-Take-Home-Prelim-2-Fall-2023/src/\u001b[39m\u001b[90m\u001b[4mCompute.jl:213\u001b[24m\u001b[39m\n",
     "output_type": "error",
     "traceback": [
      "MethodError: no method matching 𝔼(::Nothing, ::NamedTuple{(:Sₒ, :T₁, :T₂, :Δt), NTuple{4, Float64}})\n\n\u001b[0mClosest candidates are:\n\u001b[0m  𝔼(\u001b[91m::MyGeometricBrownianMotionEquityModel\u001b[39m, ::NamedTuple)\n\u001b[0m\u001b[90m   @\u001b[39m \u001b[32mMain\u001b[39m \u001b[90m~/Desktop/julia_work/CHEME-5660-Take-Home-Prelim-2-Fall-2023/src/\u001b[39m\u001b[90m\u001b[4mCompute.jl:213\u001b[24m\u001b[39m\n",
      "",
      "Stacktrace:",
      " [1] top-level scope",
      "   @ In[13]:1"
     ]
    }
   ],
   "source": [
    "expectation = 𝔼(gbm_model, (Sₒ = Sₒ, T₁ = T₁, T₂ = T₂, Δt = Δt));\n",
    "variance = Var(gbm_model, (Sₒ = Sₒ, T₁ = T₁, T₂ = T₂, Δt = Δt));"
   ]
  },
  {
   "cell_type": "markdown",
   "id": "19d357cf-146d-44ef-8b81-3c8369692ce7",
   "metadata": {},
   "source": [
    "Next, build a `Normal` distribution from the analytical values for the expectation and variance of the share price $S_{T}$, and save this in the `d` variable:"
   ]
  },
  {
   "cell_type": "code",
   "execution_count": 14,
   "id": "09cc7a2d-7010-41ec-a01c-59f8f9b2c89a",
   "metadata": {
    "tags": []
   },
   "outputs": [
    {
     "ename": "LoadError",
     "evalue": "UndefVarError: `expectation` not defined",
     "output_type": "error",
     "traceback": [
      "UndefVarError: `expectation` not defined",
      "",
      "Stacktrace:",
      " [1] top-level scope",
      "   @ In[14]:1"
     ]
    }
   ],
   "source": [
    "d = Normal(expectation[end], sqrt(variance[end]));"
   ]
  },
  {
   "cell_type": "markdown",
   "id": "cd1c65ab-05f1-4fa9-98e7-d0ab9f0ac554",
   "metadata": {},
   "source": [
    "Now, plot the `X` samples, and values from the `d` distribution:"
   ]
  },
  {
   "cell_type": "code",
   "execution_count": 15,
   "id": "36d5be39-7297-443d-a266-043e71c93ae6",
   "metadata": {
    "tags": []
   },
   "outputs": [
    {
     "ename": "LoadError",
     "evalue": "MethodError: no method matching axes(::Nothing, ::Int64)\n\n\u001b[0mClosest candidates are:\n\u001b[0m  axes(\u001b[91m::Base.Broadcast.Broadcasted{<:Any, <:Tuple{Vararg{T, N}} where T}\u001b[39m, ::Integer) where N\n\u001b[0m\u001b[90m   @\u001b[39m \u001b[90mBase\u001b[39m \u001b[90m\u001b[4mbroadcast.jl:227\u001b[24m\u001b[39m\n\u001b[0m  axes(\u001b[91m::DataFrames.GroupKey\u001b[39m, ::Integer)\n\u001b[0m\u001b[90m   @\u001b[39m \u001b[36mDataFrames\u001b[39m \u001b[90m~/.julia/packages/DataFrames/58MUJ/src/groupeddataframe/\u001b[39m\u001b[90m\u001b[4mgroupeddataframe.jl:653\u001b[24m\u001b[39m\n\u001b[0m  axes(\u001b[91m::GroupedDataFrame\u001b[39m, ::Integer)\n\u001b[0m\u001b[90m   @\u001b[39m \u001b[36mDataFrames\u001b[39m \u001b[90m~/.julia/packages/DataFrames/58MUJ/src/groupeddataframe/\u001b[39m\u001b[90m\u001b[4mgroupeddataframe.jl:557\u001b[24m\u001b[39m\n\u001b[0m  ...\n",
     "output_type": "error",
     "traceback": [
      "MethodError: no method matching axes(::Nothing, ::Int64)\n\n\u001b[0mClosest candidates are:\n\u001b[0m  axes(\u001b[91m::Base.Broadcast.Broadcasted{<:Any, <:Tuple{Vararg{T, N}} where T}\u001b[39m, ::Integer) where N\n\u001b[0m\u001b[90m   @\u001b[39m \u001b[90mBase\u001b[39m \u001b[90m\u001b[4mbroadcast.jl:227\u001b[24m\u001b[39m\n\u001b[0m  axes(\u001b[91m::DataFrames.GroupKey\u001b[39m, ::Integer)\n\u001b[0m\u001b[90m   @\u001b[39m \u001b[36mDataFrames\u001b[39m \u001b[90m~/.julia/packages/DataFrames/58MUJ/src/groupeddataframe/\u001b[39m\u001b[90m\u001b[4mgroupeddataframe.jl:653\u001b[24m\u001b[39m\n\u001b[0m  axes(\u001b[91m::GroupedDataFrame\u001b[39m, ::Integer)\n\u001b[0m\u001b[90m   @\u001b[39m \u001b[36mDataFrames\u001b[39m \u001b[90m~/.julia/packages/DataFrames/58MUJ/src/groupeddataframe/\u001b[39m\u001b[90m\u001b[4mgroupeddataframe.jl:557\u001b[24m\u001b[39m\n\u001b[0m  ...\n",
      "",
      "Stacktrace:",
      " [1] lastindex(a::Nothing, d::Int64)",
      "   @ Base ./abstractarray.jl:420",
      " [2] top-level scope",
      "   @ In[15]:1"
     ]
    }
   ],
   "source": [
    "density(X[end,2:end], normalize=true, xlabel=\"SPYD Price @T = 52-Weeks\", \n",
    "    ylabel=\"Density\", label=\"Sampled\", c=:red,lw=2)\n",
    "plot!(d, label=\"Analytical\", c=:navyblue,lw=2)"
   ]
  },
  {
   "cell_type": "markdown",
   "id": "fbd3671d-91d3-475c-ab75-0c7f6eea63c5",
   "metadata": {},
   "source": [
    "#### Test for Normality\n",
    "The plots of $X$ and `d` look similar but not the same. We have assumed that $S_{T}$ can be modeled as a `Normal` distribution initialized from the expected value and variance of the analytical GBM solutions. __Is this a reasonable assumption?__ \n",
    "\n",
    "One approach to answering this question is to perform a one-sample [Anderson–Darling test](https://en.wikipedia.org/wiki/Anderson–Darling_test) of the `null hypothesis` that the data in $X$ is drawn from the distribution `d` against the alternative hypothesis that the sample is not drawn from distribution `d`.\n",
    "\n",
    "* If we `reject` the `null hypothesis`, i.e., $X$ and `d` are from different distributions, we'll use the `X` values directly in subsequent calculations. Otherwise, we'll use the `d` distribution."
   ]
  },
  {
   "cell_type": "code",
   "execution_count": 16,
   "id": "c5ebce97-1fcc-4438-b02b-59b567020bce",
   "metadata": {
    "tags": []
   },
   "outputs": [
    {
     "ename": "LoadError",
     "evalue": "MethodError: no method matching axes(::Nothing, ::Int64)\n\n\u001b[0mClosest candidates are:\n\u001b[0m  axes(\u001b[91m::Base.Broadcast.Broadcasted{<:Any, <:Tuple{Vararg{T, N}} where T}\u001b[39m, ::Integer) where N\n\u001b[0m\u001b[90m   @\u001b[39m \u001b[90mBase\u001b[39m \u001b[90m\u001b[4mbroadcast.jl:227\u001b[24m\u001b[39m\n\u001b[0m  axes(\u001b[91m::DataFrames.GroupKey\u001b[39m, ::Integer)\n\u001b[0m\u001b[90m   @\u001b[39m \u001b[36mDataFrames\u001b[39m \u001b[90m~/.julia/packages/DataFrames/58MUJ/src/groupeddataframe/\u001b[39m\u001b[90m\u001b[4mgroupeddataframe.jl:653\u001b[24m\u001b[39m\n\u001b[0m  axes(\u001b[91m::GroupedDataFrame\u001b[39m, ::Integer)\n\u001b[0m\u001b[90m   @\u001b[39m \u001b[36mDataFrames\u001b[39m \u001b[90m~/.julia/packages/DataFrames/58MUJ/src/groupeddataframe/\u001b[39m\u001b[90m\u001b[4mgroupeddataframe.jl:557\u001b[24m\u001b[39m\n\u001b[0m  ...\n",
     "output_type": "error",
     "traceback": [
      "MethodError: no method matching axes(::Nothing, ::Int64)\n\n\u001b[0mClosest candidates are:\n\u001b[0m  axes(\u001b[91m::Base.Broadcast.Broadcasted{<:Any, <:Tuple{Vararg{T, N}} where T}\u001b[39m, ::Integer) where N\n\u001b[0m\u001b[90m   @\u001b[39m \u001b[90mBase\u001b[39m \u001b[90m\u001b[4mbroadcast.jl:227\u001b[24m\u001b[39m\n\u001b[0m  axes(\u001b[91m::DataFrames.GroupKey\u001b[39m, ::Integer)\n\u001b[0m\u001b[90m   @\u001b[39m \u001b[36mDataFrames\u001b[39m \u001b[90m~/.julia/packages/DataFrames/58MUJ/src/groupeddataframe/\u001b[39m\u001b[90m\u001b[4mgroupeddataframe.jl:653\u001b[24m\u001b[39m\n\u001b[0m  axes(\u001b[91m::GroupedDataFrame\u001b[39m, ::Integer)\n\u001b[0m\u001b[90m   @\u001b[39m \u001b[36mDataFrames\u001b[39m \u001b[90m~/.julia/packages/DataFrames/58MUJ/src/groupeddataframe/\u001b[39m\u001b[90m\u001b[4mgroupeddataframe.jl:557\u001b[24m\u001b[39m\n\u001b[0m  ...\n",
      "",
      "Stacktrace:",
      " [1] lastindex(a::Nothing, d::Int64)",
      "   @ Base ./abstractarray.jl:420",
      " [2] top-level scope",
      "   @ In[16]:1"
     ]
    }
   ],
   "source": [
    "OneSampleADTest(X[end,2:end],d)"
   ]
  },
  {
   "cell_type": "markdown",
   "id": "56075685-eea7-428a-92e3-ca67f797b948",
   "metadata": {},
   "source": [
    "#### c) Compute the Net Present Value (NPV) of `Investment B` by sampling the $S_{T}$ distribution\n",
    "For `Investment B`, we purchase $n_{o}$ shares now (for $V_{B}$ USD), collect the dividend parameters every quarter, and then sell all $n_{o}$ at the end of the `52-Week` investment period for $S_{T}$ USD/share. Let $C = \\dot{D}\\times{n_{\\circ}}$ USD denote the _dividend payment_ (quarterly), where the dividend rate for `SPYD` is $\\dot{D}$ = 1.78 USD/share. The NPV for `Investment B` is given by:\n",
    "\n",
    "$$\n",
    "\\text{NPV}_{B} = -V_{B} + C\\cdot\\sum_{i=1}^{3}\\mathcal{D}^{-1}(\\bar{r},t_{i}) + \\mathcal{D}^{-1}(\\bar{r},1)\\cdot\\left(C + n_{o}\\times{S}_{T}\\right)\n",
    "$$\n",
    "\n",
    "where $\\mathcal{D}(\\bar{r},t_{j})$ denotes the _continuous_ discount model between time `0` and $t_{j}$, where time is demarcated in units of quarters, i.e., `0.25 year`. Thus, $t_{1} = 0.25,\\dotsc, t_{4} = 1$. Let's begin by building a continuous discounting function:"
   ]
  },
  {
   "cell_type": "code",
   "execution_count": 17,
   "id": "c3a72c57-d9cb-4ec2-8156-65a816f4dd87",
   "metadata": {
    "tags": []
   },
   "outputs": [],
   "source": [
    "𝒟(r,t) = exp(r*t); # specify continuous discount factor function"
   ]
  },
  {
   "cell_type": "markdown",
   "id": "018fc962-caf9-48c2-809b-b8d7aa4895da",
   "metadata": {},
   "source": [
    "Now, compute the number of shares we purchased at the start of `Investment B` by investing $V_{B}$ USD in `SPYD`. Save the number of `SPYD` shares purchased in the $n_{\\circ}$ variable:"
   ]
  },
  {
   "cell_type": "code",
   "execution_count": 18,
   "id": "00257113-9bee-4a12-a5b3-8d7d0fa04195",
   "metadata": {
    "tags": []
   },
   "outputs": [],
   "source": [
    "nₒ = nothing; # TODO fill me in"
   ]
  },
  {
   "cell_type": "markdown",
   "id": "48f3fa0b-b85b-4584-8f2c-18a561c10c08",
   "metadata": {},
   "source": [
    "Next, let's compute `number_of_samples` possible futures. Suppose in each possible future, we draw a sample from either the `Normal` share price distribution model `d` or the sample array `X`  and compute a value for $S_{T}$. We repeat this procedure for each possible future. \n",
    "\n",
    "* If we rejected the `null hypothesis` above, then we'll use the prices in the `X` array. \n",
    "* However, if we did not reject the `null hypothesis`, we’ll generate samples by sampling the `Normal` distribution, i.e. using the `rand(d,number)` function.\n",
    "\n",
    "In either case, save the $S_{T}$ price samples in the `samples` variable:"
   ]
  },
  {
   "cell_type": "code",
   "execution_count": 19,
   "id": "c0493210-a980-4f38-a436-440b620ed30d",
   "metadata": {
    "tags": []
   },
   "outputs": [],
   "source": [
    "samples = zeros(number_of_samples); # TODO: change this line"
   ]
  },
  {
   "cell_type": "markdown",
   "id": "2ca4eaa3-6ae8-4fe5-aaf0-befd8e6acc3a",
   "metadata": {},
   "source": [
    "Using nested ‘ for ‘ loops, compute the cash flow associated with `Investment B` for each possible future. \n",
    "* The outer `for` loop, over the index `i`, will select a sample (an instance of a potential future), while the inner `for` loop, over the index `j`, loops over the cash events for `Investment B`. \n",
    "\n",
    "Let's begin by specifying the number of quarters that we expect cash events to occur and save this value in the `number_of_events` variable:"
   ]
  },
  {
   "cell_type": "code",
   "execution_count": 20,
   "id": "a528b516-8dba-4670-8a7e-e949a2661713",
   "metadata": {
    "tags": []
   },
   "outputs": [],
   "source": [
    "number_of_quarters = 4; # number of quarters"
   ]
  },
  {
   "cell_type": "markdown",
   "id": "b43547f8-22fb-4226-9768-9c8f69edc313",
   "metadata": {},
   "source": [
    "Please fill in any missing items in the simulation logic:"
   ]
  },
  {
   "cell_type": "code",
   "execution_count": 21,
   "id": "415e6b85-4b86-4d5d-8d0d-4fb178b8dff8",
   "metadata": {
    "tags": []
   },
   "outputs": [
    {
     "ename": "LoadError",
     "evalue": "MethodError: \u001b[0mCannot `convert` an object of type \u001b[92mNothing\u001b[39m\u001b[0m to an object of type \u001b[91mFloat64\u001b[39m\n\n\u001b[0mClosest candidates are:\n\u001b[0m  convert(::Type{T}, \u001b[91m::Base.TwicePrecision\u001b[39m) where T<:Number\n\u001b[0m\u001b[90m   @\u001b[39m \u001b[90mBase\u001b[39m \u001b[90m\u001b[4mtwiceprecision.jl:273\u001b[24m\u001b[39m\n\u001b[0m  convert(::Type{T}, \u001b[91m::AbstractChar\u001b[39m) where T<:Number\n\u001b[0m\u001b[90m   @\u001b[39m \u001b[90mBase\u001b[39m \u001b[90m\u001b[4mchar.jl:185\u001b[24m\u001b[39m\n\u001b[0m  convert(::Type{T}, \u001b[91m::CartesianIndex{1}\u001b[39m) where T<:Number\n\u001b[0m\u001b[90m   @\u001b[39m \u001b[90mBase\u001b[39m \u001b[90m\u001b[4mmultidimensional.jl:127\u001b[24m\u001b[39m\n\u001b[0m  ...\n",
     "output_type": "error",
     "traceback": [
      "MethodError: \u001b[0mCannot `convert` an object of type \u001b[92mNothing\u001b[39m\u001b[0m to an object of type \u001b[91mFloat64\u001b[39m\n\n\u001b[0mClosest candidates are:\n\u001b[0m  convert(::Type{T}, \u001b[91m::Base.TwicePrecision\u001b[39m) where T<:Number\n\u001b[0m\u001b[90m   @\u001b[39m \u001b[90mBase\u001b[39m \u001b[90m\u001b[4mtwiceprecision.jl:273\u001b[24m\u001b[39m\n\u001b[0m  convert(::Type{T}, \u001b[91m::AbstractChar\u001b[39m) where T<:Number\n\u001b[0m\u001b[90m   @\u001b[39m \u001b[90mBase\u001b[39m \u001b[90m\u001b[4mchar.jl:185\u001b[24m\u001b[39m\n\u001b[0m  convert(::Type{T}, \u001b[91m::CartesianIndex{1}\u001b[39m) where T<:Number\n\u001b[0m\u001b[90m   @\u001b[39m \u001b[90mBase\u001b[39m \u001b[90m\u001b[4mmultidimensional.jl:127\u001b[24m\u001b[39m\n\u001b[0m  ...\n",
      "",
      "Stacktrace:",
      " [1] setindex!(h::Dict{Int64, Float64}, v0::Nothing, key::Int64)",
      "   @ Base ./dict.jl:369",
      " [2] top-level scope",
      "   @ ./In[21]:8"
     ]
    }
   ],
   "source": [
    "possible_cashflows_array = Array{Dict{Int64,Float64},1}();\n",
    "for i ∈ 1:number_of_samples\n",
    "\n",
    "    Tⱼ = 0.0;\n",
    "    future_share_price = samples[i];\n",
    "    \n",
    "    cashflow_dictionary = Dict{Int64,Float64}(); # holds cash flow for a particular future\n",
    "    cashflow_dictionary[0] = nothing; # TODO fill me in \n",
    "    for j ∈ 1:number_of_quarters\n",
    "        \n",
    "        Tⱼ = Tⱼ + 0.25;\n",
    "        if (j == 4)\n",
    "            cashflow_dictionary[j] = nothing; # TODO fill me in\n",
    "        else\n",
    "            cashflow_dictionary[j] = nothing; # TODO fill me in\n",
    "        end \n",
    "    end\n",
    "    \n",
    "    push!(possible_cashflows_array, cashflow_dictionary);\n",
    "end"
   ]
  },
  {
   "cell_type": "markdown",
   "id": "e7c5bc30-8921-4963-8bb6-839f416dab6c",
   "metadata": {},
   "source": [
    "Finally, we can compute the NPV values for each possible future, and store these values in the `NPV_array_B` variable:"
   ]
  },
  {
   "cell_type": "code",
   "execution_count": 22,
   "id": "edd0ddc4-0920-4fac-a16a-857c0e89ee67",
   "metadata": {
    "tags": []
   },
   "outputs": [],
   "source": [
    "NPV_array_B = Array{Float64,1}();\n",
    "for i ∈ eachindex(possible_cashflows_array)\n",
    "    cashflow_dictionary = possible_cashflows_array[i];\n",
    "\n",
    "    npv_value = 0.0;\n",
    "    for j ∈ 0:number_of_events\n",
    "        npv_value += cashflow_dictionary[j];\n",
    "    end\n",
    "    \n",
    "    push!(NPV_array_B, npv_value)\n",
    "end"
   ]
  },
  {
   "cell_type": "code",
   "execution_count": 23,
   "id": "266f1fab-d60b-431e-8898-ae8eda2814ff",
   "metadata": {
    "tags": []
   },
   "outputs": [
    {
     "ename": "LoadError",
     "evalue": "MethodError: reducing over an empty collection is not allowed; consider supplying `init` to the reducer",
     "output_type": "error",
     "traceback": [
      "MethodError: reducing over an empty collection is not allowed; consider supplying `init` to the reducer",
      "",
      "Stacktrace:",
      "  [1] reduce_empty(op::Base.MappingRF{Base.ExtremaMap{typeof(identity)}, typeof(Base._extrema_rf)}, #unused#::Type{Float64})",
      "    @ Base ./reduce.jl:356",
      "  [2] reduce_empty_iter",
      "    @ ./reduce.jl:379 [inlined]",
      "  [3] mapreduce_empty_iter(f::Function, op::Function, itr::Vector{Float64}, ItrEltype::Base.HasEltype)",
      "    @ Base ./reduce.jl:375",
      "  [4] _mapreduce(f::Base.ExtremaMap{typeof(identity)}, op::typeof(Base._extrema_rf), #unused#::IndexLinear, A::Vector{Float64})",
      "    @ Base ./reduce.jl:427",
      "  [5] _mapreduce_dim",
      "    @ ./reducedim.jl:365 [inlined]",
      "  [6] #mapreduce#800",
      "    @ ./reducedim.jl:357 [inlined]",
      "  [7] mapreduce",
      "    @ ./reducedim.jl:357 [inlined]",
      "  [8] #_extrema#826",
      "    @ ./reducedim.jl:999 [inlined]",
      "  [9] _extrema",
      "    @ ./reducedim.jl:999 [inlined]",
      " [10] #_extrema#825",
      "    @ ./reducedim.jl:998 [inlined]",
      " [11] _extrema",
      "    @ ./reducedim.jl:998 [inlined]",
      " [12] #extrema#823",
      "    @ ./reducedim.jl:994 [inlined]",
      " [13] extrema",
      "    @ ./reducedim.jl:994 [inlined]",
      " [14] kde_boundary",
      "    @ ~/.julia/packages/KernelDensity/wRVC2/src/univariate.jl:76 [inlined]",
      " [15] #violin_coords#98",
      "    @ ~/.julia/packages/StatsPlots/appIH/src/violin.jl:13 [inlined]",
      " [16] macro expansion",
      "    @ ~/.julia/packages/StatsPlots/appIH/src/hist.jl:13 [inlined]",
      " [17] apply_recipe(plotattributes::AbstractDict{Symbol, Any}, #unused#::Type{Val{:density}}, x::Any, y::Any, z::Any)",
      "    @ StatsPlots ~/.julia/packages/RecipesBase/BRe07/src/RecipesBase.jl:300",
      " [18] _process_seriesrecipe(plt::Any, plotattributes::Any)",
      "    @ RecipesPipeline ~/.julia/packages/RecipesPipeline/BGM3l/src/series_recipe.jl:50",
      " [19] _process_seriesrecipes!(plt::Any, kw_list::Any)",
      "    @ RecipesPipeline ~/.julia/packages/RecipesPipeline/BGM3l/src/series_recipe.jl:27",
      " [20] recipe_pipeline!(plt::Any, plotattributes::Any, args::Any)",
      "    @ RecipesPipeline ~/.julia/packages/RecipesPipeline/BGM3l/src/RecipesPipeline.jl:99",
      " [21] _plot!(plt::Plots.Plot, plotattributes::Any, args::Any)",
      "    @ Plots ~/.julia/packages/Plots/sxUvK/src/plot.jl:223",
      " [22] plot(args::Any; kw::Base.Pairs{Symbol, V, Tuple{Vararg{Symbol, N}}, NamedTuple{names, T}} where {V, N, names, T<:Tuple{Vararg{Any, N}}})",
      "    @ Plots ~/.julia/packages/Plots/sxUvK/src/plot.jl:102",
      " [23] density(args::Any; kw::Base.Pairs{Symbol, V, Tuple{Vararg{Symbol, N}}, NamedTuple{names, T}} where {V, N, names, T<:Tuple{Vararg{Any, N}}})",
      "    @ Plots ~/.julia/packages/RecipesBase/BRe07/src/RecipesBase.jl:427",
      " [24] top-level scope",
      "    @ In[23]:1"
     ]
    }
   ],
   "source": [
    "density(NPV_array_B, normalize=true, xlabel=\"NPV Investment B\", \n",
    "    ylabel=\"Density\", label=\"Normal\", c=:red, lw=2)"
   ]
  },
  {
   "cell_type": "markdown",
   "id": "256b1fcb-b388-4e64-8036-4c2204c860ce",
   "metadata": {},
   "source": [
    "#### Confidence Interval for NPV value for `Investment B`\n",
    "We have a distribution of NPV values for `Investment B` because we don't know the final share price exactly. Thus, let's compute the `99% confidence` estimate of the mean NPV value for `Investment B`, and use this in our decision process:\n",
    "\n",
    "$$\n",
    "\\mu \\pm z\\left(\\frac{\\sigma}{\\sqrt{N}}\\right)\n",
    "$$\n",
    "\n",
    "where $\\mu$ denotes the `mean` of the NPV, $\\sigma$ denotes the `standard deviation` of the NPV, $z$ denotes the `z-score`, where `z = 2.576` for the `99%-CI`, and `N` denotes the `number_of_samples`. The `99%-CI` says we are `99%` confident that the _mean NPV value_ will be $\\mu\\pm{z}\\frac{\\sigma}{\\sqrt{N}}$\n",
    "\n",
    "* The `mean` can be calculated using the [mean function](https://docs.julialang.org/en/v1/stdlib/Statistics/#Statistics.mean), the `standard deviation` can be computed using the [std function](https://docs.julialang.org/en/v1/stdlib/Statistics/#Statistics.std), both from the [Statistics.jl](https://docs.julialang.org/en/v1/stdlib/Statistics/) package which we load in `Include.jl`. The `sqrt` can be computed using the [sqrt function](https://docs.julialang.org/en/v1/base/math/#Base.sqrt-Tuple{Number}) (loaded by default)."
   ]
  },
  {
   "cell_type": "code",
   "execution_count": 24,
   "id": "c195dcb4-cd09-48f7-9789-5d3dca9aaa59",
   "metadata": {
    "tags": []
   },
   "outputs": [
    {
     "ename": "LoadError",
     "evalue": "MethodError: no method matching *(::Float64, ::Nothing)\n\n\u001b[0mClosest candidates are:\n\u001b[0m  *(::Any, ::Any, \u001b[91m::Any\u001b[39m, \u001b[91m::Any...\u001b[39m)\n\u001b[0m\u001b[90m   @\u001b[39m \u001b[90mBase\u001b[39m \u001b[90m\u001b[4moperators.jl:578\u001b[24m\u001b[39m\n\u001b[0m  *(::T, \u001b[91m::T\u001b[39m) where T<:Union{Float16, Float32, Float64}\n\u001b[0m\u001b[90m   @\u001b[39m \u001b[90mBase\u001b[39m \u001b[90m\u001b[4mfloat.jl:410\u001b[24m\u001b[39m\n\u001b[0m  *(::Union{Float16, Float32, Float64}, \u001b[91m::BigFloat\u001b[39m)\n\u001b[0m\u001b[90m   @\u001b[39m \u001b[90mBase\u001b[39m \u001b[90m\u001b[4mmpfr.jl:423\u001b[24m\u001b[39m\n\u001b[0m  ...\n",
     "output_type": "error",
     "traceback": [
      "MethodError: no method matching *(::Float64, ::Nothing)\n\n\u001b[0mClosest candidates are:\n\u001b[0m  *(::Any, ::Any, \u001b[91m::Any\u001b[39m, \u001b[91m::Any...\u001b[39m)\n\u001b[0m\u001b[90m   @\u001b[39m \u001b[90mBase\u001b[39m \u001b[90m\u001b[4moperators.jl:578\u001b[24m\u001b[39m\n\u001b[0m  *(::T, \u001b[91m::T\u001b[39m) where T<:Union{Float16, Float32, Float64}\n\u001b[0m\u001b[90m   @\u001b[39m \u001b[90mBase\u001b[39m \u001b[90m\u001b[4mfloat.jl:410\u001b[24m\u001b[39m\n\u001b[0m  *(::Union{Float16, Float32, Float64}, \u001b[91m::BigFloat\u001b[39m)\n\u001b[0m\u001b[90m   @\u001b[39m \u001b[90mBase\u001b[39m \u001b[90m\u001b[4mmpfr.jl:423\u001b[24m\u001b[39m\n\u001b[0m  ...\n",
      "",
      "Stacktrace:",
      " [1] *(::Float64, ::Nothing, ::Float64)",
      "   @ Base ./operators.jl:578",
      " [2] top-level scope",
      "   @ In[24]:4"
     ]
    }
   ],
   "source": [
    "z = 2.576; # 99% CI\n",
    "mean_value = nothing; # TODO fill me in\n",
    "std_value = nothing; # TODO fill me in\n",
    "SE = z*std_value*(1/sqrt(number_of_samples))\n",
    "println(\"The mean NPV ± $(z) S.E is given by: $(mean_value) ± $(SE)\")"
   ]
  },
  {
   "cell_type": "markdown",
   "id": "80c34876-2204-4220-ab72-ad48ebebd059",
   "metadata": {},
   "source": [
    "Use the mean value for the NPV of `investment B`,  save this value in the `NPV_B` variable:"
   ]
  },
  {
   "cell_type": "code",
   "execution_count": 25,
   "id": "1f17f5a4-0482-44f8-91b4-c608aadc6b49",
   "metadata": {
    "tags": []
   },
   "outputs": [],
   "source": [
    "NPV_B = nothing"
   ]
  },
  {
   "cell_type": "markdown",
   "id": "8a62752a-cf04-42ea-b012-69ca846a02fb",
   "metadata": {},
   "source": [
    "## Which investment should we choose?"
   ]
  },
  {
   "cell_type": "code",
   "execution_count": 26,
   "id": "03c72497-5dad-4ec7-afde-7b2f306d0c8c",
   "metadata": {
    "tags": []
   },
   "outputs": [
    {
     "ename": "LoadError",
     "evalue": "MethodError: no method matching isless(::Nothing, ::Nothing)\n\n\u001b[0mClosest candidates are:\n\u001b[0m  isless(::Any, \u001b[91m::Missing\u001b[39m)\n\u001b[0m\u001b[90m   @\u001b[39m \u001b[90mBase\u001b[39m \u001b[90m\u001b[4mmissing.jl:88\u001b[24m\u001b[39m\n\u001b[0m  isless(\u001b[91m::Missing\u001b[39m, ::Any)\n\u001b[0m\u001b[90m   @\u001b[39m \u001b[90mBase\u001b[39m \u001b[90m\u001b[4mmissing.jl:87\u001b[24m\u001b[39m\n",
     "output_type": "error",
     "traceback": [
      "MethodError: no method matching isless(::Nothing, ::Nothing)\n\n\u001b[0mClosest candidates are:\n\u001b[0m  isless(::Any, \u001b[91m::Missing\u001b[39m)\n\u001b[0m\u001b[90m   @\u001b[39m \u001b[90mBase\u001b[39m \u001b[90m\u001b[4mmissing.jl:88\u001b[24m\u001b[39m\n\u001b[0m  isless(\u001b[91m::Missing\u001b[39m, ::Any)\n\u001b[0m\u001b[90m   @\u001b[39m \u001b[90mBase\u001b[39m \u001b[90m\u001b[4mmissing.jl:87\u001b[24m\u001b[39m\n",
      "",
      "Stacktrace:",
      " [1] <(x::Nothing, y::Nothing)",
      "   @ Base ./operators.jl:343",
      " [2] >(x::Nothing, y::Nothing)",
      "   @ Base ./operators.jl:369",
      " [3] top-level scope",
      "   @ In[26]:1"
     ]
    }
   ],
   "source": [
    "if (NPV_A > NPV_B)\n",
    "    println(\"We should chose Investment A\")\n",
    "else\n",
    "    println(\"We should chose Investment B\")\n",
    "end"
   ]
  },
  {
   "cell_type": "code",
   "execution_count": null,
   "id": "da9478d3-e23a-4743-b665-b17baab18b22",
   "metadata": {},
   "outputs": [],
   "source": []
  }
 ],
 "metadata": {
  "kernelspec": {
   "display_name": "Julia 1.9.3",
   "language": "julia",
   "name": "julia-1.9"
  },
  "language_info": {
   "file_extension": ".jl",
   "mimetype": "application/julia",
   "name": "julia",
   "version": "1.9.3"
  }
 },
 "nbformat": 4,
 "nbformat_minor": 5
}
